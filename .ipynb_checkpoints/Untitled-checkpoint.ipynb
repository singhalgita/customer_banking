{
 "cells": [
  {
   "cell_type": "code",
   "execution_count": 9,
   "id": "0cdf9499-a3c8-4307-9607-f9ea99297598",
   "metadata": {},
   "outputs": [
    {
     "ename": "NameError",
     "evalue": "name 'account' is not defined",
     "output_type": "error",
     "traceback": [
      "\u001b[0;31m---------------------------------------------------------------------------\u001b[0m",
      "\u001b[0;31mNameError\u001b[0m                                 Traceback (most recent call last)",
      "Cell \u001b[0;32mIn[9], line 60\u001b[0m\n\u001b[1;32m     56\u001b[0m     \u001b[38;5;28;01mreturn\u001b[39;00m  \u001b[38;5;66;03m# ADD YOUR CODE HERE\u001b[39;00m\n\u001b[1;32m     57\u001b[0m     \u001b[38;5;28;01mreturn\u001b[39;00m balance, interest\n\u001b[0;32m---> 60\u001b[0m \u001b[38;5;28mprint\u001b[39m(\u001b[38;5;124mf\u001b[39m\u001b[38;5;124m\"\u001b[39m\u001b[38;5;132;01m{\u001b[39;00maccount\u001b[38;5;241m.\u001b[39mset_balance()\u001b[38;5;132;01m}\u001b[39;00m\u001b[38;5;124m\"\u001b[39m)\n\u001b[1;32m     61\u001b[0m \u001b[38;5;28mprint\u001b[39m(\u001b[38;5;124mf\u001b[39m\u001b[38;5;124m\"\u001b[39m\u001b[38;5;132;01m{\u001b[39;00maccount\u001b[38;5;241m.\u001b[39mset_interest()\u001b[38;5;132;01m}\u001b[39;00m\u001b[38;5;124m\"\u001b[39m)\n",
      "\u001b[0;31mNameError\u001b[0m: name 'account' is not defined"
     ]
    }
   ],
   "source": [
    "\"\"\"Import the Account class from the Account.py file.\"\"\"\n",
    "# ADD YOUR CODE HERE\n",
    "from Account import Account\n",
    "\n",
    "\n",
    "\n",
    "    \n",
    "# Define a function for the Savings Account\n",
    "def create_savings_account(self, selbalance, interest_rate, months):\n",
    "    \"\"\"Creates a savings account, calculates interest earned, and updates the account balance.\n",
    "\n",
    "    Args:\n",
    "        balance (float): The initial savings account balance.\n",
    "        interest_rate (float): The APR interest rate for the savings account.\n",
    "        months (int): The length of months to determine the amount of interest.\n",
    "\n",
    "    Returns:\n",
    "        float: The updated savings account balance after adding the interest earned.\n",
    "        And returns the interest earned.\n",
    "    \"\"\"\n",
    "    self.setbalance = setbalance\n",
    "    self.interest_rate = interest_rate\n",
    "    self.months = months\n",
    "\n",
    "    interest_rate = float(input(f\"enter the interest rate: \"))\n",
    "    months = int(input(f\"enter the number of months: \"))  \n",
    "    setbalance = float(input(f\"enter your account initial balance : \"))\n",
    "    \n",
    "    # Create an instance of the `Account` class and pass in the balance and interest parameters\n",
    "    account = Account(setbalance, interest_rate)\n",
    "    \n",
    "    #  Hint: You need to add the interest as a value, i.e, 0.\n",
    "    # ADD YOUR CODE HERE\n",
    "    interest = 0\n",
    "    account.set_balance(setbalance)\n",
    "\n",
    "    # Calculate interest earned;\n",
    "    # ADD YOUR CODE HERE\n",
    "    interest = float((setbalance * interest_rate * months)/100)\n",
    "    \n",
    "    # Update the savings account balance by adding the interest earned\n",
    "    # ADD YOUR CODE HERE\n",
    "    updated_balance = setbalance + interest\n",
    "    \n",
    "    # Pass the updated_balance to the set balance method using the instance of the SavingsAccount class.\n",
    "    # ADD YOUR CODE HERE\n",
    "    account.set_balance(updated_balance)\n",
    "    \n",
    "    # Pass the interest_earned to the set interest method using the instance of the SavingsAccount class.\n",
    "    # ADD YOUR CODE HERE\n",
    "    account.set_interest(interest)\n",
    "\n",
    "    # Return the updated balance and interest earned.\n",
    "    return  # ADD YOUR CODE HERE\n",
    "    return updated_balance, interest\n",
    "\n",
    "\n"
   ]
  },
  {
   "cell_type": "code",
   "execution_count": null,
   "id": "e99ff9c6-72ef-4da3-9901-f368b54b1bf5",
   "metadata": {},
   "outputs": [],
   "source": []
  }
 ],
 "metadata": {
  "kernelspec": {
   "display_name": "Python 3 (ipykernel)",
   "language": "python",
   "name": "python3"
  },
  "language_info": {
   "codemirror_mode": {
    "name": "ipython",
    "version": 3
   },
   "file_extension": ".py",
   "mimetype": "text/x-python",
   "name": "python",
   "nbconvert_exporter": "python",
   "pygments_lexer": "ipython3",
   "version": "3.12.4"
  }
 },
 "nbformat": 4,
 "nbformat_minor": 5
}
